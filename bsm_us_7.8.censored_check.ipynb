{
 "cells": [
  {
   "cell_type": "code",
   "execution_count": 2,
   "metadata": {
    "ExecuteTime": {
     "end_time": "2020-01-16T08:00:45.876629Z",
     "start_time": "2020-01-16T08:00:44.303Z"
    }
   },
   "outputs": [],
   "source": [
    "file_prefix <- \"bsm_us_7.8\"\n",
    "source(\"preset.R\")"
   ]
  },
  {
   "cell_type": "code",
   "execution_count": 3,
   "metadata": {
    "ExecuteTime": {
     "end_time": "2020-01-16T08:00:46.767623Z",
     "start_time": "2020-01-16T08:00:45.400Z"
    }
   },
   "outputs": [],
   "source": [
    "model_code = \"\n",
    "data {\n",
    "  int N_obs;\n",
    "  int N_cens;\n",
    "  real Y_obs[N_obs];\n",
    "  real L;\n",
    "}\n",
    "\n",
    "parameters {\n",
    "  real mu;\n",
    "  real<lower=0> s_Y;\n",
    "}\n",
    "\n",
    "model {\n",
    "  for (n in 1:N_obs)\n",
    "    Y_obs[n] ~ normal(mu, s_Y);\n",
    "  target += N_cens * normal_lcdf(L | mu, s_Y);\n",
    "}\n",
    "\""
   ]
  },
  {
   "cell_type": "markdown",
   "metadata": {},
   "source": [
    "# sigma is large"
   ]
  },
  {
   "cell_type": "code",
   "execution_count": 30,
   "metadata": {
    "ExecuteTime": {
     "end_time": "2020-01-16T08:06:06.005935Z",
     "start_time": "2020-01-16T08:06:04.627Z"
    }
   },
   "outputs": [],
   "source": [
    "N <- 10000\n",
    "mu <- 0\n",
    "sigma <- 10\n",
    "L <- -10"
   ]
  },
  {
   "cell_type": "code",
   "execution_count": 31,
   "metadata": {
    "ExecuteTime": {
     "end_time": "2020-01-16T08:06:06.841319Z",
     "start_time": "2020-01-16T08:06:05.433Z"
    }
   },
   "outputs": [],
   "source": [
    "Y <- rnorm(N, mu, sigma)"
   ]
  },
  {
   "cell_type": "code",
   "execution_count": 32,
   "metadata": {
    "ExecuteTime": {
     "end_time": "2020-01-16T08:06:09.032247Z",
     "start_time": "2020-01-16T08:06:07.657Z"
    }
   },
   "outputs": [
    {
     "data": {
      "text/html": [
       "<ol class=list-inline>\n",
       "\t<li>10000</li>\n",
       "\t<li>8441</li>\n",
       "\t<li>1559</li>\n",
       "</ol>\n"
      ],
      "text/latex": [
       "\\begin{enumerate*}\n",
       "\\item 10000\n",
       "\\item 8441\n",
       "\\item 1559\n",
       "\\end{enumerate*}\n"
      ],
      "text/markdown": [
       "1. 10000\n",
       "2. 8441\n",
       "3. 1559\n",
       "\n",
       "\n"
      ],
      "text/plain": [
       "[1] 10000  8441  1559"
      ]
     },
     "metadata": {},
     "output_type": "display_data"
    }
   ],
   "source": [
    "Y_obs <- Y[Y > L]\n",
    "N_obs <- length(Y_obs)\n",
    "N_cens <- N - N_obs\n",
    "c(N, N_obs, N_cens)"
   ]
  },
  {
   "cell_type": "code",
   "execution_count": 33,
   "metadata": {
    "ExecuteTime": {
     "end_time": "2020-01-16T08:06:10.648176Z",
     "start_time": "2020-01-16T08:06:09.278Z"
    }
   },
   "outputs": [],
   "source": [
    "data <- list(N_obs = N_obs, N_cens = N_cens, Y_obs = Y_obs, L = L)"
   ]
  },
  {
   "cell_type": "code",
   "execution_count": 34,
   "metadata": {
    "ExecuteTime": {
     "end_time": "2020-01-16T08:06:38.474674Z",
     "start_time": "2020-01-16T08:06:10.330Z"
    }
   },
   "outputs": [
    {
     "data": {
      "text/plain": [
       "Inference for Stan model: 751d715546f805595168611e1e9d3522.\n",
       "4 chains, each with iter=4000; warmup=100; thin=1; \n",
       "post-warmup draws per chain=3900, total post-warmup draws=15600.\n",
       "\n",
       "          mean se_mean   sd      2.5%       25%       50%       75%     97.5%\n",
       "mu       -0.04    0.00 0.10     -0.23     -0.11     -0.04      0.03      0.16\n",
       "s_Y       9.88    0.00 0.08      9.72      9.82      9.88      9.93     10.04\n",
       "lp__ -25235.23    0.02 1.02 -25237.93 -25235.59 -25234.92 -25234.52 -25234.26\n",
       "     n_eff Rhat\n",
       "mu    2286    1\n",
       "s_Y  13378    1\n",
       "lp__  3787    1\n",
       "\n",
       "Samples were drawn using NUTS(diag_e) at Thu Jan 16 17:06:38 2020.\n",
       "For each parameter, n_eff is a crude measure of effective sample size,\n",
       "and Rhat is the potential scale reduction factor on split chains (at \n",
       "convergence, Rhat=1)."
      ]
     },
     "metadata": {},
     "output_type": "display_data"
    }
   ],
   "source": [
    "fit <- stan(model_code = model_code, data = data, chains = 4, warmup = 100, iter = 4000)\n",
    "fit"
   ]
  },
  {
   "cell_type": "markdown",
   "metadata": {},
   "source": [
    "# sigma is small"
   ]
  },
  {
   "cell_type": "code",
   "execution_count": 53,
   "metadata": {
    "ExecuteTime": {
     "end_time": "2020-01-16T08:09:38.928708Z",
     "start_time": "2020-01-16T08:09:37.553Z"
    }
   },
   "outputs": [],
   "source": [
    "N <- 10000\n",
    "mu <- 0\n",
    "sigma <- 0.05\n",
    "L <- 0.05"
   ]
  },
  {
   "cell_type": "code",
   "execution_count": 54,
   "metadata": {
    "ExecuteTime": {
     "end_time": "2020-01-16T08:09:39.880387Z",
     "start_time": "2020-01-16T08:09:38.092Z"
    }
   },
   "outputs": [],
   "source": [
    "Y <- rnorm(N, mu, sigma)"
   ]
  },
  {
   "cell_type": "code",
   "execution_count": 55,
   "metadata": {
    "ExecuteTime": {
     "end_time": "2020-01-16T08:09:40.298416Z",
     "start_time": "2020-01-16T08:09:38.921Z"
    }
   },
   "outputs": [
    {
     "data": {
      "text/html": [
       "<ol class=list-inline>\n",
       "\t<li>10000</li>\n",
       "\t<li>1655</li>\n",
       "\t<li>8345</li>\n",
       "</ol>\n"
      ],
      "text/latex": [
       "\\begin{enumerate*}\n",
       "\\item 10000\n",
       "\\item 1655\n",
       "\\item 8345\n",
       "\\end{enumerate*}\n"
      ],
      "text/markdown": [
       "1. 10000\n",
       "2. 1655\n",
       "3. 8345\n",
       "\n",
       "\n"
      ],
      "text/plain": [
       "[1] 10000  1655  8345"
      ]
     },
     "metadata": {},
     "output_type": "display_data"
    }
   ],
   "source": [
    "Y_obs <- Y[Y > L]\n",
    "N_obs <- length(Y_obs)\n",
    "N_cens <- N - N_obs\n",
    "c(N, N_obs, N_cens)"
   ]
  },
  {
   "cell_type": "code",
   "execution_count": 56,
   "metadata": {
    "ExecuteTime": {
     "end_time": "2020-01-16T08:09:42.320565Z",
     "start_time": "2020-01-16T08:09:40.946Z"
    }
   },
   "outputs": [],
   "source": [
    "data <- list(N_obs = N_obs, N_cens = N_cens, Y_obs = Y_obs, L = L)"
   ]
  },
  {
   "cell_type": "code",
   "execution_count": 58,
   "metadata": {
    "ExecuteTime": {
     "end_time": "2020-01-16T08:10:07.094965Z",
     "start_time": "2020-01-16T08:10:01.813Z"
    }
   },
   "outputs": [
    {
     "data": {
      "text/plain": [
       "Inference for Stan model: 751d715546f805595168611e1e9d3522.\n",
       "4 chains, each with iter=4000; warmup=1000; thin=1; \n",
       "post-warmup draws per chain=3000, total post-warmup draws=12000.\n",
       "\n",
       "        mean se_mean sd    2.5%     25%     50%     75%   97.5% n_eff Rhat\n",
       "mu      0.00    0.00  0    0.00    0.00    0.00    0.00    0.00  2608    1\n",
       "s_Y     0.05    0.00  0    0.05    0.05    0.05    0.05    0.05  2140    1\n",
       "lp__ 1418.59    0.02  1 1415.85 1418.20 1418.90 1419.30 1419.55  3069    1\n",
       "\n",
       "Samples were drawn using NUTS(diag_e) at Thu Jan 16 17:10:06 2020.\n",
       "For each parameter, n_eff is a crude measure of effective sample size,\n",
       "and Rhat is the potential scale reduction factor on split chains (at \n",
       "convergence, Rhat=1)."
      ]
     },
     "metadata": {},
     "output_type": "display_data"
    }
   ],
   "source": [
    "fit <- stan(model_code = model_code, data = data, chains = 4, warmup = 1000, iter = 4000)\n",
    "fit"
   ]
  },
  {
   "cell_type": "code",
   "execution_count": null,
   "metadata": {},
   "outputs": [],
   "source": []
  }
 ],
 "metadata": {
  "kernelspec": {
   "display_name": "R",
   "language": "R",
   "name": "ir"
  },
  "language_info": {
   "codemirror_mode": "r",
   "file_extension": ".r",
   "mimetype": "text/x-r-source",
   "name": "R",
   "pygments_lexer": "r",
   "version": "3.6.1"
  },
  "toc": {
   "base_numbering": 1,
   "nav_menu": {},
   "number_sections": true,
   "sideBar": true,
   "skip_h1_title": false,
   "title_cell": "Table of Contents",
   "title_sidebar": "Contents",
   "toc_cell": false,
   "toc_position": {},
   "toc_section_display": true,
   "toc_window_display": false
  }
 },
 "nbformat": 4,
 "nbformat_minor": 2
}
