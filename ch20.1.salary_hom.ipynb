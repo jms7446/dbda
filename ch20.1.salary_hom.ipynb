{
 "cells": [
  {
   "cell_type": "code",
   "execution_count": 2,
   "metadata": {
    "ExecuteTime": {
     "end_time": "2020-01-15T01:22:25.000751Z",
     "start_time": "2020-01-15T01:22:24.809Z"
    }
   },
   "outputs": [],
   "source": [
    "file_prefix <- \"ch20.1\"\n",
    "reuse_fit <- T\n",
    "source(\"preset.R\")\n",
    "\n",
    "input_file <- \"data/Salary.csv\""
   ]
  },
  {
   "cell_type": "markdown",
   "metadata": {
    "ExecuteTime": {
     "end_time": "2020-01-14T02:38:17.627086Z",
     "start_time": "2020-01-14T02:38:17.618Z"
    }
   },
   "source": [
    "# prepare data"
   ]
  },
  {
   "cell_type": "code",
   "execution_count": 34,
   "metadata": {
    "ExecuteTime": {
     "end_time": "2020-01-15T02:49:01.174549Z",
     "start_time": "2020-01-15T02:49:01.146Z"
    }
   },
   "outputs": [
    {
     "name": "stderr",
     "output_type": "stream",
     "text": [
      "Parsed with column specification:\n",
      "cols(\n",
      "  Org = \u001b[31mcol_character()\u001b[39m,\n",
      "  OrgName = \u001b[31mcol_character()\u001b[39m,\n",
      "  Cla = \u001b[31mcol_character()\u001b[39m,\n",
      "  Pos = \u001b[31mcol_character()\u001b[39m,\n",
      "  ClaPos = \u001b[31mcol_character()\u001b[39m,\n",
      "  Salary = \u001b[32mcol_double()\u001b[39m\n",
      ")\n",
      "\n"
     ]
    }
   ],
   "source": [
    "data <- read_csv(input_file) %>% \n",
    "    mutate(Pos = factor(Pos, levels=c(\"FT3\",\"FT2\",\"FT1\",\"NDW\",\"DST\"), ordered=TRUE, \n",
    "                        labels=c(\"Assis\",\"Assoc\",\"Full\",\"Endow\",\"Disting\")), \n",
    "           Org = factor(Org))"
   ]
  },
  {
   "cell_type": "code",
   "execution_count": 35,
   "metadata": {
    "ExecuteTime": {
     "end_time": "2020-01-15T02:49:26.442223Z",
     "start_time": "2020-01-15T02:49:26.411Z"
    },
    "scrolled": true
   },
   "outputs": [
    {
     "data": {
      "text/html": [
       "<table>\n",
       "<caption>A tibble: 6 × 6</caption>\n",
       "<thead>\n",
       "\t<tr><th scope=col>Org</th><th scope=col>OrgName</th><th scope=col>Cla</th><th scope=col>Pos</th><th scope=col>ClaPos</th><th scope=col>Salary</th></tr>\n",
       "\t<tr><th scope=col>&lt;fct&gt;</th><th scope=col>&lt;chr&gt;</th><th scope=col>&lt;chr&gt;</th><th scope=col>&lt;ord&gt;</th><th scope=col>&lt;chr&gt;</th><th scope=col>&lt;dbl&gt;</th></tr>\n",
       "</thead>\n",
       "<tbody>\n",
       "\t<tr><td>PL  </td><td>Philosophy             </td><td>PC</td><td>Assoc</td><td>PC.FT2</td><td> 72395</td></tr>\n",
       "\t<tr><td>MUTH</td><td>Music Theory           </td><td>PC</td><td>Assoc</td><td>PC.FT2</td><td> 61017</td></tr>\n",
       "\t<tr><td>ENG </td><td>English                </td><td>PC</td><td>Assoc</td><td>PC.FT2</td><td> 82370</td></tr>\n",
       "\t<tr><td>CMLT</td><td>Comparative Literature </td><td>PC</td><td>Assoc</td><td>PC.FT2</td><td> 68805</td></tr>\n",
       "\t<tr><td>LGED</td><td>Language Education     </td><td>PT</td><td>Assis</td><td>PT.FT3</td><td> 63796</td></tr>\n",
       "\t<tr><td>MGMT</td><td>Dept Mangement &amp; Entrep</td><td>PR</td><td>Endow</td><td>PR.NDW</td><td>219600</td></tr>\n",
       "</tbody>\n",
       "</table>\n"
      ],
      "text/latex": [
       "A tibble: 6 × 6\n",
       "\\begin{tabular}{llllll}\n",
       " Org & OrgName & Cla & Pos & ClaPos & Salary\\\\\n",
       " <fct> & <chr> & <chr> & <ord> & <chr> & <dbl>\\\\\n",
       "\\hline\n",
       "\t PL   & Philosophy              & PC & Assoc & PC.FT2 &  72395\\\\\n",
       "\t MUTH & Music Theory            & PC & Assoc & PC.FT2 &  61017\\\\\n",
       "\t ENG  & English                 & PC & Assoc & PC.FT2 &  82370\\\\\n",
       "\t CMLT & Comparative Literature  & PC & Assoc & PC.FT2 &  68805\\\\\n",
       "\t LGED & Language Education      & PT & Assis & PT.FT3 &  63796\\\\\n",
       "\t MGMT & Dept Mangement \\& Entrep & PR & Endow & PR.NDW & 219600\\\\\n",
       "\\end{tabular}\n"
      ],
      "text/markdown": [
       "\n",
       "A tibble: 6 × 6\n",
       "\n",
       "| Org &lt;fct&gt; | OrgName &lt;chr&gt; | Cla &lt;chr&gt; | Pos &lt;ord&gt; | ClaPos &lt;chr&gt; | Salary &lt;dbl&gt; |\n",
       "|---|---|---|---|---|---|\n",
       "| PL   | Philosophy              | PC | Assoc | PC.FT2 |  72395 |\n",
       "| MUTH | Music Theory            | PC | Assoc | PC.FT2 |  61017 |\n",
       "| ENG  | English                 | PC | Assoc | PC.FT2 |  82370 |\n",
       "| CMLT | Comparative Literature  | PC | Assoc | PC.FT2 |  68805 |\n",
       "| LGED | Language Education      | PT | Assis | PT.FT3 |  63796 |\n",
       "| MGMT | Dept Mangement &amp; Entrep | PR | Endow | PR.NDW | 219600 |\n",
       "\n"
      ],
      "text/plain": [
       "  Org  OrgName                 Cla Pos   ClaPos Salary\n",
       "1 PL   Philosophy              PC  Assoc PC.FT2  72395\n",
       "2 MUTH Music Theory            PC  Assoc PC.FT2  61017\n",
       "3 ENG  English                 PC  Assoc PC.FT2  82370\n",
       "4 CMLT Comparative Literature  PC  Assoc PC.FT2  68805\n",
       "5 LGED Language Education      PT  Assis PT.FT3  63796\n",
       "6 MGMT Dept Mangement & Entrep PR  Endow PR.NDW 219600"
      ]
     },
     "metadata": {},
     "output_type": "display_data"
    }
   ],
   "source": [
    "head(data)"
   ]
  },
  {
   "cell_type": "code",
   "execution_count": 30,
   "metadata": {
    "ExecuteTime": {
     "end_time": "2020-01-15T02:47:29.594806Z",
     "start_time": "2020-01-15T02:47:29.563Z"
    }
   },
   "outputs": [],
   "source": [
    "y_name = \"Salary\"\n",
    "x1_name = \"Pos\"\n",
    "x2_name = \"Org\""
   ]
  },
  {
   "cell_type": "code",
   "execution_count": 37,
   "metadata": {
    "ExecuteTime": {
     "end_time": "2020-01-15T02:51:59.985795Z",
     "start_time": "2020-01-15T02:51:59.962Z"
    }
   },
   "outputs": [],
   "source": [
    "y_M = mean(data[[y_name]])\n",
    "y_SD = sd(data[[y_name]])"
   ]
  },
  {
   "cell_type": "code",
   "execution_count": 38,
   "metadata": {
    "ExecuteTime": {
     "end_time": "2020-01-15T02:52:34.823076Z",
     "start_time": "2020-01-15T02:52:34.798Z"
    }
   },
   "outputs": [],
   "source": [
    "stan_data <- list(\n",
    "    N = nrow(data), \n",
    "    K1 = n_distinct(data[x1_name]), \n",
    "    K2 = n_distinct(data[x2_name]), \n",
    "    x1 = as.integer(data[[x1_name]]), \n",
    "    x2 = as.integer(data[[x2_name]]), \n",
    "    y = data[[y_name]], \n",
    "    y_M = y_M, \n",
    "    y_SD = y_SD,\n",
    "    a_gamma_SH_RA = unlist(gammaShRaFromModeSD(y_SD / 2, y_SD * 2))\n",
    ")"
   ]
  },
  {
   "cell_type": "code",
   "execution_count": 57,
   "metadata": {
    "ExecuteTime": {
     "end_time": "2020-01-15T03:26:49.056297Z",
     "start_time": "2020-01-15T03:26:49.015Z"
    }
   },
   "outputs": [
    {
     "data": {
      "text/html": [
       "44283.2045783654"
      ],
      "text/latex": [
       "44283.2045783654"
      ],
      "text/markdown": [
       "44283.2045783654"
      ],
      "text/plain": [
       "[1] 44283.2"
      ]
     },
     "metadata": {},
     "output_type": "display_data"
    }
   ],
   "source": [
    "stan_data$y_SD"
   ]
  },
  {
   "cell_type": "markdown",
   "metadata": {},
   "source": [
    "# model fit "
   ]
  },
  {
   "cell_type": "code",
   "execution_count": 7,
   "metadata": {
    "ExecuteTime": {
     "end_time": "2020-01-14T02:32:54.962278Z",
     "start_time": "2020-01-14T02:32:07.568Z"
    }
   },
   "outputs": [
    {
     "name": "stderr",
     "output_type": "stream",
     "text": [
      "recompiling to avoid crashing R session\n",
      "\n"
     ]
    }
   ],
   "source": [
    "if (reuse_fit) {\n",
    "    load(save_file_name(\"fit\"))\n",
    "} else {\n",
    "    fit <- stan(file = \"ch20.1.stan\", data = stan_data, seed = 123, \n",
    "            pars = c(\"m\", \"alpha_0\", \"alpha1\", \"alpha2\"), include = F, \n",
    "            chains = 4, warmup = 300, iter = 10000, thin = 4)\n",
    "    save(model, fit, file = save_file_name(\"fit\"))\n",
    "}"
   ]
  },
  {
   "cell_type": "code",
   "execution_count": 83,
   "metadata": {
    "ExecuteTime": {
     "end_time": "2020-01-15T05:07:17.522847Z",
     "start_time": "2020-01-15T05:07:17.321Z"
    }
   },
   "outputs": [],
   "source": [
    "res <- fit_to_tibble(fit) %>% \n",
    "    select(\"beta_0\", \"beta1_1\", \"beta1_2\", \"beta1_3\", \"beta1_4\", \"beta1_5\", \n",
    "           \"beta2_21\", \"beta2_49\", \"beta2_13\", \"beta2_8\", \n",
    "           \"beta12_1,49\", \"beta12_3,49\", \"beta12_1,13\", \"beta12_3,13\",\n",
    "           \"y_sigma\")"
   ]
  },
  {
   "cell_type": "code",
   "execution_count": 87,
   "metadata": {
    "ExecuteTime": {
     "end_time": "2020-01-15T05:11:15.729432Z",
     "start_time": "2020-01-15T05:11:15.669Z"
    }
   },
   "outputs": [
    {
     "data": {
      "text/html": [
       "<table>\n",
       "<caption>A tibble: 15 × 2</caption>\n",
       "<thead>\n",
       "\t<tr><th scope=col>key</th><th scope=col>value</th></tr>\n",
       "\t<tr><th scope=col>&lt;chr&gt;</th><th scope=col>&lt;dbl&gt;</th></tr>\n",
       "</thead>\n",
       "<tbody>\n",
       "\t<tr><td>beta_0     </td><td>129950.353</td></tr>\n",
       "\t<tr><td>beta1_1    </td><td>-46780.660</td></tr>\n",
       "\t<tr><td>beta1_2    </td><td>-36101.757</td></tr>\n",
       "\t<tr><td>beta1_3    </td><td> -6883.508</td></tr>\n",
       "\t<tr><td>beta1_4    </td><td> 33393.004</td></tr>\n",
       "\t<tr><td>beta1_5    </td><td> 56372.920</td></tr>\n",
       "\t<tr><td>beta2_21   </td><td>-11401.590</td></tr>\n",
       "\t<tr><td>beta2_49   </td><td>  2004.458</td></tr>\n",
       "\t<tr><td>beta2_13   </td><td> 11183.380</td></tr>\n",
       "\t<tr><td>beta2_8    </td><td> 70545.714</td></tr>\n",
       "\t<tr><td>beta12_1,49</td><td>  -236.266</td></tr>\n",
       "\t<tr><td>beta12_3,49</td><td> -2467.493</td></tr>\n",
       "\t<tr><td>beta12_1,13</td><td> -2119.446</td></tr>\n",
       "\t<tr><td>beta12_3,13</td><td>  2075.497</td></tr>\n",
       "\t<tr><td>y_sigma    </td><td> 24506.007</td></tr>\n",
       "</tbody>\n",
       "</table>\n"
      ],
      "text/latex": [
       "A tibble: 15 × 2\n",
       "\\begin{tabular}{ll}\n",
       " key & value\\\\\n",
       " <chr> & <dbl>\\\\\n",
       "\\hline\n",
       "\t beta\\_0      & 129950.353\\\\\n",
       "\t beta1\\_1     & -46780.660\\\\\n",
       "\t beta1\\_2     & -36101.757\\\\\n",
       "\t beta1\\_3     &  -6883.508\\\\\n",
       "\t beta1\\_4     &  33393.004\\\\\n",
       "\t beta1\\_5     &  56372.920\\\\\n",
       "\t beta2\\_21    & -11401.590\\\\\n",
       "\t beta2\\_49    &   2004.458\\\\\n",
       "\t beta2\\_13    &  11183.380\\\\\n",
       "\t beta2\\_8     &  70545.714\\\\\n",
       "\t beta12\\_1,49 &   -236.266\\\\\n",
       "\t beta12\\_3,49 &  -2467.493\\\\\n",
       "\t beta12\\_1,13 &  -2119.446\\\\\n",
       "\t beta12\\_3,13 &   2075.497\\\\\n",
       "\t y\\_sigma     &  24506.007\\\\\n",
       "\\end{tabular}\n"
      ],
      "text/markdown": [
       "\n",
       "A tibble: 15 × 2\n",
       "\n",
       "| key &lt;chr&gt; | value &lt;dbl&gt; |\n",
       "|---|---|\n",
       "| beta_0      | 129950.353 |\n",
       "| beta1_1     | -46780.660 |\n",
       "| beta1_2     | -36101.757 |\n",
       "| beta1_3     |  -6883.508 |\n",
       "| beta1_4     |  33393.004 |\n",
       "| beta1_5     |  56372.920 |\n",
       "| beta2_21    | -11401.590 |\n",
       "| beta2_49    |   2004.458 |\n",
       "| beta2_13    |  11183.380 |\n",
       "| beta2_8     |  70545.714 |\n",
       "| beta12_1,49 |   -236.266 |\n",
       "| beta12_3,49 |  -2467.493 |\n",
       "| beta12_1,13 |  -2119.446 |\n",
       "| beta12_3,13 |   2075.497 |\n",
       "| y_sigma     |  24506.007 |\n",
       "\n"
      ],
      "text/plain": [
       "   key         value     \n",
       "1  beta_0      129950.353\n",
       "2  beta1_1     -46780.660\n",
       "3  beta1_2     -36101.757\n",
       "4  beta1_3      -6883.508\n",
       "5  beta1_4      33393.004\n",
       "6  beta1_5      56372.920\n",
       "7  beta2_21    -11401.590\n",
       "8  beta2_49      2004.458\n",
       "9  beta2_13     11183.380\n",
       "10 beta2_8      70545.714\n",
       "11 beta12_1,49   -236.266\n",
       "12 beta12_3,49  -2467.493\n",
       "13 beta12_1,13  -2119.446\n",
       "14 beta12_3,13   2075.497\n",
       "15 y_sigma      24506.007"
      ]
     },
     "metadata": {},
     "output_type": "display_data"
    }
   ],
   "source": [
    "res %>% summarise_all(funs(mean)) %>% \n",
    "    gather(key, value, beta_0:y_sigma)"
   ]
  }
 ],
 "metadata": {
  "kernelspec": {
   "display_name": "R",
   "language": "R",
   "name": "ir"
  },
  "language_info": {
   "codemirror_mode": "r",
   "file_extension": ".r",
   "mimetype": "text/x-r-source",
   "name": "R",
   "pygments_lexer": "r",
   "version": "3.6.1"
  },
  "toc": {
   "base_numbering": 1,
   "nav_menu": {},
   "number_sections": true,
   "sideBar": true,
   "skip_h1_title": false,
   "title_cell": "Table of Contents",
   "title_sidebar": "Contents",
   "toc_cell": false,
   "toc_position": {},
   "toc_section_display": true,
   "toc_window_display": false
  }
 },
 "nbformat": 4,
 "nbformat_minor": 2
}
